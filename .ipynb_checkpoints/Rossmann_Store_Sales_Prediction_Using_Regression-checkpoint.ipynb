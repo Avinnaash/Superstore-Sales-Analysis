{
 "cells": [
  {
   "cell_type": "markdown",
   "metadata": {
    "colab_type": "text",
    "id": "3xPVVBM8s8mA"
   },
   "source": [
    "# Rossmann Store Sales Prediction\n",
    "\n",
    "Kaggle Competition:\n",
    "Rossmann operates over 3,000 drug stores in 7 European countries. Currently, Rossmann store managers are tasked with predicting their daily sales for up to six weeks in advance. Store sales are influenced by many factors, including promotions, competition, school and state holidays, seasonality, and locality. With thousands of individual managers predicting sales based on their unique circumstances, the accuracy of results can be quite varied.\n",
    "\n",
    "We're accepting Rossmann's challenge to predict 6 weeks of daily sales for 1,115 stores located across Germany. Reliable sales forecasts enable store managers to create effective staff schedules that increase productivity and motivation. By helping Rossmann create a robust prediction model, we will help store managers stay focused on what’s most important to them: their customers and their teams!                                                                                                "
   ]
  },
  {
   "cell_type": "markdown",
   "metadata": {
    "colab_type": "text",
    "id": "LHz1r9uls8mB"
   },
   "source": [
    "![ASW_Corp_Site_Header_Our_Portfolio_Rossmann.jpg](https://user-images.githubusercontent.com/32555702/37235455-ada03b6a-23b3-11e8-9a53-0df7a4b704bc.jpg)"
   ]
  },
  {
   "cell_type": "markdown",
   "metadata": {
    "colab_type": "text",
    "id": "WPBYO1LGs8mC"
   },
   "source": [
    "### Project Requirements\n",
    "- Must use a Regression technique\n",
    "- Must deploy model you created (not just calling out to Azure, AWS, or Google AI API).\n",
    "- Must use a real data set (not fake data set, i.e. randomly generated numbers)\n",
    "- Juypter Notebook Documentation\n",
    "- Must explain in detail accuracy of model\n",
    "- Explain the tradeoffs you made\n",
    "- Do exploratory data exploration"
   ]
  },
  {
   "cell_type": "markdown",
   "metadata": {
    "colab_type": "text",
    "id": "5yqh95Fvs8mD"
   },
   "source": [
    "## Table of Contents\n",
    "1. [Import Packages](#1-bullet) <br>\n",
    "2. [Data Preparation](#2-bullet) <br>\n",
    "2.1 [Load Dataset](#2.1-bullet) <br>\n",
    "2.2 [Dealing With Missing Values](#2.2-bullet) <br>\n",
    "2.2.1 [Count missing values in each dataset](#2.2.1-bullet) <br>\n",
    "2.2.2 [Remove features with high percentages of missing values](#2.2.2-bullet) <br>\n",
    "2.2.3 [Replace missing values in features with low percentages of missing values](#2.2.3-bullet) <br>\n",
    "2.3 [Date Extraction](#2.3-bullet) <br>\n",
    "2.4 [Joining Tables](#2.4-bullet) <br>\n",
    "2.5 [Drop Subsets Of Data Which Might Cause Bias](#2.5-bullet) <br>\n",
    "2.6 [Feature Engineering](#2.6-bullet) <br>\n",
    "3. [Exploratory Data Exploration](#3-bullet) <br>\n",
    "3.1 [Correlation Heatmap](#3.1-bullet) <br>\n",
    "3.2 [Sales Distribution](#3.2-bullet) <br>\n",
    "3.3 [Customer Distribution](#3.3-bullet) <br>\n",
    "3.4 [Sales Over Time](#3.4-bullet) <br>\n",
    "4. [Sales Prediction](#4-bullet) <br>\n",
    "4.1 [Linear Regression (OLS)](#4.1-bullet) <br>\n",
    "4.2 [Bayesian Ridge Regression](#4.2-bullet) <br>\n",
    "4.3 [LARS Lasso Regression](#4.3-bullet) <br>\n",
    "4.4 [Decision Tree Regression](#4.4-bullet) <br>\n",
    "4.5 [Random Forest Regression](#4.5-bullet) <br>\n",
    "4.6 [K-Nearest Neighbor Regression](#4.6-bullet) <br>\n"
   ]
  },
  {
   "cell_type": "markdown",
   "metadata": {
    "colab_type": "text",
    "id": "W3N8JVsvs8mE"
   },
   "source": [
    "# 1. Import Packages <a class=\"anchor\" id=\"1-bullet\"></a>"
   ]
  },
  {
   "cell_type": "code",
   "execution_count": 1,
   "metadata": {
    "colab": {
     "autoexec": {
      "startup": false,
      "wait_interval": 0
     }
    },
    "colab_type": "code",
    "id": "puuUUD6is8mE"
   },
   "outputs": [
    {
     "ename": "ModuleNotFoundError",
     "evalue": "No module named 'plotly'",
     "output_type": "error",
     "traceback": [
      "\u001b[0;31m---------------------------------------------------------------------------\u001b[0m",
      "\u001b[0;31mModuleNotFoundError\u001b[0m                       Traceback (most recent call last)",
      "\u001b[0;32m<ipython-input-1-e766d552ca55>\u001b[0m in \u001b[0;36m<module>\u001b[0;34m()\u001b[0m\n\u001b[1;32m      5\u001b[0m \u001b[0;32mimport\u001b[0m \u001b[0mseaborn\u001b[0m \u001b[0;32mas\u001b[0m \u001b[0msns\u001b[0m\u001b[0;34m\u001b[0m\u001b[0m\n\u001b[1;32m      6\u001b[0m \u001b[0msns\u001b[0m\u001b[0;34m.\u001b[0m\u001b[0mset_style\u001b[0m\u001b[0;34m(\u001b[0m\u001b[0;34m\"whitegrid\"\u001b[0m\u001b[0;34m)\u001b[0m\u001b[0;34m\u001b[0m\u001b[0m\n\u001b[0;32m----> 7\u001b[0;31m \u001b[0;32mimport\u001b[0m \u001b[0mplotly\u001b[0m\u001b[0;34m\u001b[0m\u001b[0m\n\u001b[0m\u001b[1;32m      8\u001b[0m \u001b[0;32mimport\u001b[0m \u001b[0mplotly\u001b[0m\u001b[0;34m.\u001b[0m\u001b[0mgraph_objs\u001b[0m \u001b[0;32mas\u001b[0m \u001b[0mgo\u001b[0m\u001b[0;34m\u001b[0m\u001b[0m\n\u001b[1;32m      9\u001b[0m \u001b[0;32mimport\u001b[0m \u001b[0mplotly\u001b[0m\u001b[0;34m.\u001b[0m\u001b[0mplotly\u001b[0m \u001b[0;32mas\u001b[0m \u001b[0mpy\u001b[0m\u001b[0;34m\u001b[0m\u001b[0m\n",
      "\u001b[0;31mModuleNotFoundError\u001b[0m: No module named 'plotly'"
     ]
    }
   ],
   "source": [
    "import numpy as np\n",
    "import pandas as pd\n",
    "import matplotlib.pyplot as plt\n",
    "%matplotlib inline\n",
    "import seaborn as sns\n",
    "sns.set_style(\"whitegrid\")\n",
    "import plotly \n",
    "import plotly.graph_objs as go\n",
    "import plotly.plotly as py\n",
    "import sklearn\n",
    "import warnings\n",
    "warnings.filterwarnings(\"ignore\")"
   ]
  },
  {
   "cell_type": "markdown",
   "metadata": {
    "colab_type": "text",
    "id": "eGL18HPcs8mK"
   },
   "source": [
    "# 2. Data Preparation <a class=\"anchor\" id=\"2-bullet\"></a>"
   ]
  },
  {
   "cell_type": "markdown",
   "metadata": {
    "colab_type": "text",
    "id": "2CqNz0Tns8mK"
   },
   "source": [
    "## 2.1 Load Dataset <a class=\"anchor\" id=\"2.1-bullet\"></a>"
   ]
  },
  {
   "cell_type": "code",
   "execution_count": null,
   "metadata": {
    "colab": {
     "autoexec": {
      "startup": false,
      "wait_interval": 0
     }
    },
    "colab_type": "code",
    "id": "LzYhp4Ab3P88"
   },
   "outputs": [],
   "source": [
    "# Loan Datasets from github repo\n",
    "url_store = 'https://raw.githubusercontent.com/becliu/MSBA-note/master/ml_class/MLDatasets/Rossmann%20Final%20Dataset/store.csv'\n",
    "store = pd.read_csv(url_store)\n",
    "\n",
    "url_train = 'https://raw.githubusercontent.com/becliu/MSBA-note/master/ml_class/MLDatasets/Rossmann%20Final%20Dataset/train.csv'\n",
    "train = pd.read_csv(url_train,parse_dates = True, index_col = 'Date')\n"
   ]
  },
  {
   "cell_type": "code",
   "execution_count": null,
   "metadata": {
    "colab": {
     "autoexec": {
      "startup": false,
      "wait_interval": 0
     },
     "base_uri": "https://localhost:8080/",
     "height": 252,
     "output_extras": [
      {
       "item_id": 1
      },
      {
       "item_id": 2
      }
     ]
    },
    "colab_type": "code",
    "executionInfo": {
     "elapsed": 455,
     "status": "ok",
     "timestamp": 1520620502007,
     "user": {
      "displayName": "Beichuan Liu",
      "photoUrl": "https://lh3.googleusercontent.com/a/default-user=s128",
      "userId": "117124845109176084472"
     },
     "user_tz": 480
    },
    "id": "VBY23tUxs8mM",
    "outputId": "185a1986-fb52-4f4a-bc46-9945c22519bd"
   },
   "outputs": [],
   "source": [
    "# have a glance on the datasets\n",
    "print(\"# of observations & # of features\", train.shape)\n",
    "train.head()"
   ]
  },
  {
   "cell_type": "code",
   "execution_count": null,
   "metadata": {
    "colab": {
     "autoexec": {
      "startup": false,
      "wait_interval": 0
     },
     "base_uri": "https://localhost:8080/",
     "height": 241,
     "output_extras": [
      {
       "item_id": 1
      },
      {
       "item_id": 2
      }
     ]
    },
    "colab_type": "code",
    "executionInfo": {
     "elapsed": 316,
     "status": "ok",
     "timestamp": 1520620503180,
     "user": {
      "displayName": "Beichuan Liu",
      "photoUrl": "https://lh3.googleusercontent.com/a/default-user=s128",
      "userId": "117124845109176084472"
     },
     "user_tz": 480
    },
    "id": "F0q5BQBfs8mR",
    "outputId": "89646239-ba8f-4d76-a825-2d1f13d8730a"
   },
   "outputs": [],
   "source": [
    "print(\"# of observations & # of features\", store.shape)\n",
    "store.head()"
   ]
  },
  {
   "cell_type": "markdown",
   "metadata": {
    "colab_type": "text",
    "id": "8t6oPhZns8mY"
   },
   "source": [
    "## 2.2 Dealing With Missing Values <a class=\"anchor\" id=\"2.2-bullet\"></a>"
   ]
  },
  {
   "cell_type": "markdown",
   "metadata": {
    "colab_type": "text",
    "id": "dwip34xHs8mZ"
   },
   "source": [
    "### 2.2.1 Count missing values in each dataset <a class=\"anchor\" id=\"2.2.1-bullet\"></a>"
   ]
  },
  {
   "cell_type": "code",
   "execution_count": null,
   "metadata": {
    "colab": {
     "autoexec": {
      "startup": false,
      "wait_interval": 0
     },
     "base_uri": "https://localhost:8080/",
     "height": 442,
     "output_extras": [
      {
       "item_id": 1
      }
     ]
    },
    "colab_type": "code",
    "executionInfo": {
     "elapsed": 423,
     "status": "ok",
     "timestamp": 1520620505845,
     "user": {
      "displayName": "Beichuan Liu",
      "photoUrl": "https://lh3.googleusercontent.com/a/default-user=s128",
      "userId": "117124845109176084472"
     },
     "user_tz": 480
    },
    "id": "TcmlSO3ks8mZ",
    "outputId": "92585935-7332-4130-c64e-23f5bbe72fbc"
   },
   "outputs": [],
   "source": [
    "print(\"train:\\n\\n\", train.isnull().sum(),  \n",
    "     \"\\n\\nstore:\\n\\n\", store.isnull().sum())"
   ]
  },
  {
   "cell_type": "markdown",
   "metadata": {
    "colab_type": "text",
    "id": "hjRhZJ1Os8md"
   },
   "source": [
    "### 2.2.2 Remove features with high percentages of missing values <a class=\"anchor\" id=\"2.2.2-bullet\"></a>\n",
    "we can see that some features have a high percentage of missing values and they won't be accurate as indicators, so we will remove features with more than 30% missing values."
   ]
  },
  {
   "cell_type": "code",
   "execution_count": null,
   "metadata": {
    "colab": {
     "autoexec": {
      "startup": false,
      "wait_interval": 0
     }
    },
    "colab_type": "code",
    "id": "BKcBgBsHs8me"
   },
   "outputs": [],
   "source": [
    "# remove features\n",
    "store = store.drop(['CompetitionOpenSinceMonth', 'CompetitionOpenSinceYear','Promo2SinceWeek',\n",
    "                     'Promo2SinceYear', 'PromoInterval'], axis=1)"
   ]
  },
  {
   "cell_type": "markdown",
   "metadata": {
    "colab_type": "text",
    "id": "EVuM7GYvs8mg"
   },
   "source": [
    " ### 2.2.3 Replace missing values in features with low percentages of missing values <a class=\"anchor\" id=\"2.2.3-bullet\"></a>"
   ]
  },
  {
   "cell_type": "code",
   "execution_count": null,
   "metadata": {
    "colab": {
     "autoexec": {
      "startup": false,
      "wait_interval": 0
     },
     "base_uri": "https://localhost:8080/",
     "height": 311,
     "output_extras": [
      {
       "item_id": 1
      },
      {
       "item_id": 2
      }
     ]
    },
    "colab_type": "code",
    "executionInfo": {
     "elapsed": 589,
     "status": "ok",
     "timestamp": 1520620512326,
     "user": {
      "displayName": "Beichuan Liu",
      "photoUrl": "https://lh3.googleusercontent.com/a/default-user=s128",
      "userId": "117124845109176084472"
     },
     "user_tz": 480
    },
    "id": "t8_M9PaJs8mh",
    "outputId": "dc316df2-883f-4704-ffc0-c7fe316b42bd"
   },
   "outputs": [],
   "source": [
    "# CompetitionDistance is distance in meters to the nearest competitor store\n",
    "# let's first have a look at its distribution\n",
    "sns.distplot(store.CompetitionDistance.dropna())\n",
    "plt.title(\"Distributin of Store Competition Distance\")"
   ]
  },
  {
   "cell_type": "markdown",
   "metadata": {
    "colab_type": "text",
    "id": "Xbx7SXIis8mj"
   },
   "source": [
    "### The distribution is right skewed, so we'll replace missing values with the median."
   ]
  },
  {
   "cell_type": "code",
   "execution_count": null,
   "metadata": {
    "colab": {
     "autoexec": {
      "startup": false,
      "wait_interval": 0
     }
    },
    "colab_type": "code",
    "id": "y9CKGkK1s8mk"
   },
   "outputs": [],
   "source": [
    "# replace missing values in CompetitionDistance with median for the store dataset\n",
    "store.CompetitionDistance.fillna(store.CompetitionDistance.median(), inplace=True)"
   ]
  },
  {
   "cell_type": "markdown",
   "metadata": {
    "colab_type": "text",
    "id": "xsZZbTbps8mm"
   },
   "source": [
    "## 2.3 Date Extraction <a class=\"anchor\" id=\"2.3-bullet\"></a>"
   ]
  },
  {
   "cell_type": "code",
   "execution_count": null,
   "metadata": {
    "colab": {
     "autoexec": {
      "startup": false,
      "wait_interval": 0
     }
    },
    "colab_type": "code",
    "id": "2Jufyv7-s8mn"
   },
   "outputs": [],
   "source": [
    "# extract year, month, day and week of year from \"Date\"\n",
    "train['Year'] = train.index.year\n",
    "train['Month'] = train.index.month\n",
    "train['Day'] = train.index.day\n",
    "train['WeekOfYear'] = train.index.weekofyear\n",
    "train = train.reset_index()"
   ]
  },
  {
   "cell_type": "markdown",
   "metadata": {
    "colab_type": "text",
    "id": "58PYKSQ9s8mr"
   },
   "source": [
    "## 2.4 Joining Tables  <a class=\"anchor\" id=\"2.4-bullet\"></a>"
   ]
  },
  {
   "cell_type": "code",
   "execution_count": null,
   "metadata": {
    "colab": {
     "autoexec": {
      "startup": false,
      "wait_interval": 0
     },
     "base_uri": "https://localhost:8080/",
     "height": 309,
     "output_extras": [
      {
       "item_id": 1
      }
     ]
    },
    "colab_type": "code",
    "executionInfo": {
     "elapsed": 1307,
     "status": "ok",
     "timestamp": 1520620661971,
     "user": {
      "displayName": "Zimei Yang",
      "photoUrl": "https://lh3.googleusercontent.com/a/default-user=s128",
      "userId": "103997432320800495390"
     },
     "user_tz": 480
    },
    "id": "m4KfBmzVs8ms",
    "outputId": "a408b8ca-e283-4e3f-b3a1-512ff99ce66a"
   },
   "outputs": [],
   "source": [
    "df = pd.merge(train, store, how='left', on='Store')\n",
    "df.head()"
   ]
  },
  {
   "cell_type": "code",
   "execution_count": null,
   "metadata": {
    "colab": {
     "autoexec": {
      "startup": false,
      "wait_interval": 0
     },
     "base_uri": "https://localhost:8080/",
     "height": 34,
     "output_extras": [
      {
       "item_id": 1
      }
     ]
    },
    "colab_type": "code",
    "executionInfo": {
     "elapsed": 421,
     "status": "ok",
     "timestamp": 1520626124933,
     "user": {
      "displayName": "Sarah Gustafson",
      "photoUrl": "//lh3.googleusercontent.com/-R5RBMi1_00s/AAAAAAAAAAI/AAAAAAAAAAc/tacPv5Lsccg/s50-c-k-no/photo.jpg",
      "userId": "118304466202283169832"
     },
     "user_tz": 480
    },
    "id": "4nAsXpK-YS3_",
    "outputId": "bf31d197-8556-48bf-c1b6-723c627bdd62"
   },
   "outputs": [],
   "source": [
    "len(df)"
   ]
  },
  {
   "cell_type": "markdown",
   "metadata": {
    "colab_type": "text",
    "id": "9IIAoHops8mx"
   },
   "source": [
    "## 2.5 Drop Subsets Of Data Where Might Cause Bias <a class=\"anchor\" id=\"2.5-bullet\"></a>"
   ]
  },
  {
   "cell_type": "code",
   "execution_count": null,
   "metadata": {
    "colab": {
     "autoexec": {
      "startup": false,
      "wait_interval": 0
     }
    },
    "colab_type": "code",
    "id": "rXGVi4EFs8mx"
   },
   "outputs": [],
   "source": [
    "# where stores are closed, they won't generate sales, so we will remove this part of the dataset\n",
    "df = df[df.Open != 0]"
   ]
  },
  {
   "cell_type": "code",
   "execution_count": null,
   "metadata": {
    "colab": {
     "autoexec": {
      "startup": false,
      "wait_interval": 0
     }
    },
    "colab_type": "code",
    "id": "9-qhJiwGs8mz"
   },
   "outputs": [],
   "source": [
    "# Open isn't a variable anymore, so we'll drop it\n",
    "df = df.drop('Open', axis=1)"
   ]
  },
  {
   "cell_type": "code",
   "execution_count": null,
   "metadata": {
    "colab": {
     "autoexec": {
      "startup": false,
      "wait_interval": 0
     },
     "base_uri": "https://localhost:8080/",
     "height": 34,
     "output_extras": [
      {
       "item_id": 1
      }
     ]
    },
    "colab_type": "code",
    "executionInfo": {
     "elapsed": 393,
     "status": "ok",
     "timestamp": 1520620525839,
     "user": {
      "displayName": "Beichuan Liu",
      "photoUrl": "https://lh3.googleusercontent.com/a/default-user=s128",
      "userId": "117124845109176084472"
     },
     "user_tz": 480
    },
    "id": "rkGv1S32s8m2",
    "outputId": "46cf0539-2ffa-45f9-b580-c6e74d0a1b31"
   },
   "outputs": [],
   "source": [
    "# see if there's any opened store with zero sales\n",
    "df[df.Sales == 0]['Store'].sum()"
   ]
  },
  {
   "cell_type": "code",
   "execution_count": null,
   "metadata": {
    "colab": {
     "autoexec": {
      "startup": false,
      "wait_interval": 0
     },
     "base_uri": "https://localhost:8080/",
     "height": 34,
     "output_extras": [
      {
       "item_id": 1
      }
     ]
    },
    "colab_type": "code",
    "executionInfo": {
     "elapsed": 276,
     "status": "ok",
     "timestamp": 1520620526624,
     "user": {
      "displayName": "Beichuan Liu",
      "photoUrl": "https://lh3.googleusercontent.com/a/default-user=s128",
      "userId": "117124845109176084472"
     },
     "user_tz": 480
    },
    "id": "SfRsLPIcs8m3",
    "outputId": "effcb2fb-e0cc-4d24-bbe1-76d7fda26e8a"
   },
   "outputs": [],
   "source": [
    "# see the percentage of open stored with zero sales\n",
    "df[df.Sales == 0]['Sales'].sum()/df.Sales.sum()"
   ]
  },
  {
   "cell_type": "code",
   "execution_count": null,
   "metadata": {
    "colab": {
     "autoexec": {
      "startup": false,
      "wait_interval": 0
     }
    },
    "colab_type": "code",
    "id": "Z4xtMpq8s8m6"
   },
   "outputs": [],
   "source": [
    "# remove this part of data to avoid bias\n",
    "df = df[df.Sales != 0]"
   ]
  },
  {
   "cell_type": "markdown",
   "metadata": {
    "colab_type": "text",
    "id": "OPLdAc7zs8m8"
   },
   "source": [
    "## 2.6 Feature Engineering <a class=\"anchor\" id=\"2.6-bullet\"></a>"
   ]
  },
  {
   "cell_type": "code",
   "execution_count": null,
   "metadata": {
    "colab": {
     "autoexec": {
      "startup": false,
      "wait_interval": 0
     },
     "base_uri": "https://localhost:8080/",
     "height": 374,
     "output_extras": [
      {
       "item_id": 1
      }
     ]
    },
    "colab_type": "code",
    "executionInfo": {
     "elapsed": 723,
     "status": "ok",
     "timestamp": 1520620530453,
     "user": {
      "displayName": "Beichuan Liu",
      "photoUrl": "https://lh3.googleusercontent.com/a/default-user=s128",
      "userId": "117124845109176084472"
     },
     "user_tz": 480
    },
    "id": "917Yq_5Ts8m8",
    "outputId": "93a6f704-f186-4a7a-b688-480ff87c6a58"
   },
   "outputs": [],
   "source": [
    "# see what variable types we have\n",
    "df.info()"
   ]
  },
  {
   "cell_type": "code",
   "execution_count": null,
   "metadata": {
    "colab": {
     "autoexec": {
      "startup": false,
      "wait_interval": 0
     },
     "base_uri": "https://localhost:8080/",
     "height": 34,
     "output_extras": [
      {
       "item_id": 1
      }
     ]
    },
    "colab_type": "code",
    "executionInfo": {
     "elapsed": 277,
     "status": "ok",
     "timestamp": 1520620532323,
     "user": {
      "displayName": "Beichuan Liu",
      "photoUrl": "https://lh3.googleusercontent.com/a/default-user=s128",
      "userId": "117124845109176084472"
     },
     "user_tz": 480
    },
    "id": "ENVRxlT2s8m-",
    "outputId": "2d906016-2d58-4cfb-9dfc-8b60d4ea6089"
   },
   "outputs": [],
   "source": [
    "# see what's in nominal varibles \n",
    "set(df.StateHoliday), set(df.StoreType), set(df.Assortment)"
   ]
  },
  {
   "cell_type": "code",
   "execution_count": null,
   "metadata": {
    "colab": {
     "autoexec": {
      "startup": false,
      "wait_interval": 0
     }
    },
    "colab_type": "code",
    "id": "Ngsq9SO0s8nA"
   },
   "outputs": [],
   "source": [
    "# StateHoliday indicates a state holiday - a = public holiday, b = Easter holiday, c = Christmas, 0 = None\n",
    "# convert number 0 to string 0\n",
    "df.loc[df.StateHoliday == 0,'StateHoliday'] = df.loc[df.StateHoliday == 0,'StateHoliday'].astype(str)"
   ]
  },
  {
   "cell_type": "code",
   "execution_count": null,
   "metadata": {
    "colab": {
     "autoexec": {
      "startup": false,
      "wait_interval": 0
     }
    },
    "colab_type": "code",
    "id": "LGUpgkuIs8nD"
   },
   "outputs": [],
   "source": [
    "# make a copy in case I mess up anything \n",
    "df1 = df.copy()"
   ]
  },
  {
   "cell_type": "markdown",
   "metadata": {
    "colab_type": "text",
    "id": "CUT8dHNls8nF"
   },
   "source": [
    "### 2.6.1 Create new variable \"AvgSales\" <a class=\"anchor\" id=\"2.6.1-bullet\"></a>\n",
    "create a variable that calculates monthly average sales for each store"
   ]
  },
  {
   "cell_type": "code",
   "execution_count": null,
   "metadata": {
    "colab": {
     "autoexec": {
      "startup": false,
      "wait_interval": 0
     }
    },
    "colab_type": "code",
    "id": "XRMcNIsCs8nF"
   },
   "outputs": [],
   "source": [
    "# calculate weekly average sales\n",
    "sales = df1[['Year','Month','Store','Sales']].groupby(['Year','Month','Store']).mean()\n",
    "sales = sales.rename(columns={'Sales':'AvgSales'})\n",
    "sales = sales.reset_index()"
   ]
  },
  {
   "cell_type": "code",
   "execution_count": null,
   "metadata": {
    "colab": {
     "autoexec": {
      "startup": false,
      "wait_interval": 0
     }
    },
    "colab_type": "code",
    "id": "WeBda4nrs8nI"
   },
   "outputs": [],
   "source": [
    "df1['sales_key']=df1['Year'].map(str) + df1['Month'].map(str) + df1['Store'].map(str)\n",
    "sales['sales_key']=sales['Year'].map(str) + sales['Month'].map(str) + sales['Store'].map(str)"
   ]
  },
  {
   "cell_type": "code",
   "execution_count": null,
   "metadata": {
    "colab": {
     "autoexec": {
      "startup": false,
      "wait_interval": 0
     }
    },
    "colab_type": "code",
    "id": "9B4NzCZCs8nJ"
   },
   "outputs": [],
   "source": [
    "# drop extra columns\n",
    "sales = sales.drop(['Year','Month','Store'], axis=1)\n",
    "# merge\n",
    "df1 = pd.merge(df1, sales, how='left', on=('sales_key'))"
   ]
  },
  {
   "cell_type": "markdown",
   "metadata": {
    "colab_type": "text",
    "id": "4l32Pe6Ds8nM"
   },
   "source": [
    "### 2.6.2 Create new variable \"AvgCustomer\"  <a class=\"anchor\" id=\"2.6.2-bullet\"></a>\n",
    "create a variable that calculates Monthly average number of customers for each store, becuase daily number of customer is another variable to be predicted"
   ]
  },
  {
   "cell_type": "code",
   "execution_count": null,
   "metadata": {
    "colab": {
     "autoexec": {
      "startup": false,
      "wait_interval": 0
     }
    },
    "colab_type": "code",
    "id": "crY3rWpGs8nM"
   },
   "outputs": [],
   "source": [
    "# calculate weekly average\n",
    "cust = df1[['Year','Month','Store','Customers']].groupby(['Year','Month', 'Store']).mean()\n",
    "cust = cust.rename(columns={'Customers':'AvgCustomer'})\n",
    "cust = cust.reset_index()"
   ]
  },
  {
   "cell_type": "code",
   "execution_count": null,
   "metadata": {
    "colab": {
     "autoexec": {
      "startup": false,
      "wait_interval": 0
     }
    },
    "colab_type": "code",
    "id": "Jgu33s81s8nO"
   },
   "outputs": [],
   "source": [
    "df1['cust_key']=df1['Year'].map(str) + df1['Month'].map(str) + df1['Store'].map(str)\n",
    "cust['cust_key']=cust['Year'].map(str) + cust['Month'].map(str) + cust['Store'].map(str)"
   ]
  },
  {
   "cell_type": "code",
   "execution_count": null,
   "metadata": {
    "colab": {
     "autoexec": {
      "startup": false,
      "wait_interval": 0
     }
    },
    "colab_type": "code",
    "id": "MV_rKbeVs8nP"
   },
   "outputs": [],
   "source": [
    "# drop original feature Customers\n",
    "df1 = df1.drop('Customers', axis=1)# drop extra columns\n",
    "cust = cust.drop(['Year', 'Month', 'Store'], axis=1)"
   ]
  },
  {
   "cell_type": "code",
   "execution_count": null,
   "metadata": {
    "colab": {
     "autoexec": {
      "startup": false,
      "wait_interval": 0
     }
    },
    "colab_type": "code",
    "id": "kjy0ygbtW3OD"
   },
   "outputs": [],
   "source": [
    "# merge\n",
    "df1 = pd.merge(df1, cust, how=\"left\", on=('cust_key'))"
   ]
  },
  {
   "cell_type": "markdown",
   "metadata": {
    "colab_type": "text",
    "id": "jTxxYihs9pFK"
   },
   "source": [
    "### 2.6.3 Transform Variable \"StateHoliday\""
   ]
  },
  {
   "cell_type": "code",
   "execution_count": null,
   "metadata": {
    "colab": {
     "autoexec": {
      "startup": false,
      "wait_interval": 0
     }
    },
    "colab_type": "code",
    "id": "I9Jthcfi9xvD"
   },
   "outputs": [],
   "source": [
    "# 0 - not a state holiday; 1- is on a state holiday\n",
    "df1['StateHoliday'] = df1.StateHoliday.map({'0':0, 'a':1 ,'b' : 1,'c': 1})"
   ]
  },
  {
   "cell_type": "code",
   "execution_count": null,
   "metadata": {
    "colab": {
     "autoexec": {
      "startup": false,
      "wait_interval": 0
     }
    },
    "colab_type": "code",
    "id": "zJLj-xyDs8nd"
   },
   "outputs": [],
   "source": [
    "# drop extra columns\n",
    "df1 = df1.drop(['cust_key','sales_key','Store','Date'], axis=1)"
   ]
  },
  {
   "cell_type": "markdown",
   "metadata": {
    "colab_type": "text",
    "id": "C7tgvZeFs8nh"
   },
   "source": [
    "# 3. Exploratory Data Analysis"
   ]
  },
  {
   "cell_type": "code",
   "execution_count": null,
   "metadata": {
    "colab": {
     "autoexec": {
      "startup": false,
      "wait_interval": 0
     }
    },
    "colab_type": "code",
    "id": "FJ4pOuVcs8nh"
   },
   "outputs": [],
   "source": [
    "# becasue my computer keeps crashing, I had to sample the dataset \n",
    "dfv = df.sample(n=5000, random_state=1)"
   ]
  },
  {
   "cell_type": "code",
   "execution_count": null,
   "metadata": {
    "colab": {
     "autoexec": {
      "startup": false,
      "wait_interval": 0
     }
    },
    "colab_type": "code",
    "id": "DuUe65R-s8ni"
   },
   "outputs": [],
   "source": [
    "# set up credential file for plotly\n",
    "plotly.tools.set_credentials_file(username='mei_zmyang', api_key='Z8Jn8zb2xXh4lfckv9xa')"
   ]
  },
  {
   "cell_type": "markdown",
   "metadata": {
    "colab_type": "text",
    "id": "K2v6YpdUs8nj"
   },
   "source": [
    "## 3.1 Correlation Heatmap\n",
    "create a heatmap to see correlation between all variables"
   ]
  },
  {
   "cell_type": "code",
   "execution_count": null,
   "metadata": {
    "colab": {
     "autoexec": {
      "startup": false,
      "wait_interval": 0
     }
    },
    "colab_type": "code",
    "id": "d7SgJDTes8nk"
   },
   "outputs": [],
   "source": [
    "corr = df1.corr()"
   ]
  },
  {
   "cell_type": "code",
   "execution_count": null,
   "metadata": {
    "colab": {
     "autoexec": {
      "startup": false,
      "wait_interval": 0
     },
     "base_uri": "https://localhost:8080/",
     "height": 658,
     "output_extras": [
      {
       "item_id": 1
      },
      {
       "item_id": 2
      }
     ]
    },
    "colab_type": "code",
    "executionInfo": {
     "elapsed": 1417,
     "status": "ok",
     "timestamp": 1520621545789,
     "user": {
      "displayName": "Zimei Yang",
      "photoUrl": "https://lh3.googleusercontent.com/a/default-user=s128",
      "userId": "103997432320800495390"
     },
     "user_tz": 480
    },
    "id": "RJ4BObxPF_uk",
    "outputId": "3954e2bf-b150-4d3b-d84b-f56e791dab1f"
   },
   "outputs": [],
   "source": [
    "mask = np.zeros_like(corr, dtype = np.bool)\n",
    "mask[np.triu_indices_from(mask)] = True\n",
    "f, ax = plt.subplots(figsize = (11, 9))\n",
    "sns.heatmap(corr, mask = mask,\n",
    "            square = True, linewidths = .5, ax = ax, cmap = \"BuPu\")\n",
    "plt.title(\"Correlation Heatmap\", fontsize=20)"
   ]
  },
  {
   "cell_type": "markdown",
   "metadata": {
    "colab_type": "text",
    "id": "OUCIRFHSs8nl"
   },
   "source": [
    "## 3.2 Sales Distribution"
   ]
  },
  {
   "cell_type": "code",
   "execution_count": null,
   "metadata": {
    "colab": {
     "autoexec": {
      "startup": false,
      "wait_interval": 0
     },
     "base_uri": "https://localhost:8080/",
     "height": 546,
     "output_extras": [
      {
       "item_id": 1
      }
     ]
    },
    "colab_type": "code",
    "executionInfo": {
     "elapsed": 3014,
     "status": "ok",
     "timestamp": 1520638722727,
     "user": {
      "displayName": "Zimei Yang",
      "photoUrl": "https://lh3.googleusercontent.com/a/default-user=s128",
      "userId": "103997432320800495390"
     },
     "user_tz": 480
    },
    "id": "8N44ij1Ds8nl",
    "outputId": "cd8885d9-7ff0-4ddc-d31e-962acc2d53ec"
   },
   "outputs": [],
   "source": [
    "sales_dist = [go.Histogram(x=dfv.Sales, marker=dict(color='pink'))]\n",
    "layout2 = go.Layout(title='Sales Distribution', xaxis=dict(title='daily sales in $'), yaxis=dict(title='number of observations'))\n",
    "fig2 = go.Figure(data=sales_dist, layout=layout2)\n",
    "py.iplot(fig2)"
   ]
  },
  {
   "cell_type": "markdown",
   "metadata": {
    "colab_type": "text",
    "id": "iDYzEPtds8nn"
   },
   "source": [
    "## 3.3 Customer Distribution"
   ]
  },
  {
   "cell_type": "code",
   "execution_count": null,
   "metadata": {
    "colab": {
     "autoexec": {
      "startup": false,
      "wait_interval": 0
     },
     "base_uri": "https://localhost:8080/",
     "height": 546,
     "output_extras": [
      {
       "item_id": 1
      }
     ]
    },
    "colab_type": "code",
    "executionInfo": {
     "elapsed": 3943,
     "status": "ok",
     "timestamp": 1520621783037,
     "user": {
      "displayName": "Zimei Yang",
      "photoUrl": "https://lh3.googleusercontent.com/a/default-user=s128",
      "userId": "103997432320800495390"
     },
     "user_tz": 480
    },
    "id": "pcRovOP4s8no",
    "outputId": "7a6ec905-7bce-44f0-9cea-4d513c603d51"
   },
   "outputs": [],
   "source": [
    "cust_dist = [go.Histogram(x=dfv.Customers, marker=dict(color=('rgb(158,202,225')))]\n",
    "layout3 = go.Layout(title='Customer Distribution', \n",
    "                   xaxis=dict(title='daily total number of customers'), yaxis=dict(title='number of observations'))\n",
    "fig3 = go.Figure(data=cust_dist, layout=layout3)\n",
    "py.iplot(fig3)"
   ]
  },
  {
   "cell_type": "markdown",
   "metadata": {
    "colab_type": "text",
    "id": "bFLPCEqRs8nq"
   },
   "source": [
    "## 3.4 Sales Over Time"
   ]
  },
  {
   "cell_type": "code",
   "execution_count": null,
   "metadata": {
    "colab": {
     "autoexec": {
      "startup": false,
      "wait_interval": 0
     }
    },
    "colab_type": "code",
    "id": "k7w_B0-Ps8nr"
   },
   "outputs": [],
   "source": [
    "store1_2015 = df.query('Store == 1 and Year == 2015')\n",
    "store1_2013 = df.query('Store == 1 and Year == 2013')\n",
    "store1_2014 = df.query('Store == 1 and Year == 2014')"
   ]
  },
  {
   "cell_type": "code",
   "execution_count": null,
   "metadata": {
    "colab": {
     "autoexec": {
      "startup": false,
      "wait_interval": 0
     },
     "base_uri": "https://localhost:8080/",
     "height": 546,
     "output_extras": [
      {
       "item_id": 1
      }
     ]
    },
    "colab_type": "code",
    "executionInfo": {
     "elapsed": 3520,
     "status": "ok",
     "timestamp": 1520621797214,
     "user": {
      "displayName": "Zimei Yang",
      "photoUrl": "https://lh3.googleusercontent.com/a/default-user=s128",
      "userId": "103997432320800495390"
     },
     "user_tz": 480
    },
    "id": "uSBZCcu0s8nt",
    "outputId": "a6dc576c-125b-4bca-e1aa-21cc2edde5c5"
   },
   "outputs": [],
   "source": [
    "trace_2013 = go.Scatter(\n",
    "                x=store1_2013.Date,\n",
    "                y=store1_2013.Sales,\n",
    "                name = \"2013\",\n",
    "                opacity = 0.8)\n",
    "\n",
    "trace_2014 = go.Scatter(\n",
    "                x=store1_2014.Date,\n",
    "                y=store1_2014.Sales,\n",
    "                name = \"2014\",\n",
    "                opacity = 0.8)\n",
    "\n",
    "trace_2015 = go.Scatter(\n",
    "                x=store1_2015.Date,\n",
    "                y=store1_2015.Sales,\n",
    "                name = \"2015\",\n",
    "                opacity = 0.8)\n",
    "\n",
    "data = [trace_2013,trace_2014, trace_2015]\n",
    "layout = go.Layout(title='Sales Over Time', \n",
    "                   xaxis=dict(title='Date'), yaxis=dict(title='Sales'))\n",
    "fig = go.Figure(data=data, layout=layout)\n",
    "py.iplot(fig)"
   ]
  },
  {
   "cell_type": "markdown",
   "metadata": {
    "colab_type": "text",
    "id": "0ZodzAHvs8nu"
   },
   "source": [
    "## 3.5 Sales Over Days Of A Month"
   ]
  },
  {
   "cell_type": "code",
   "execution_count": null,
   "metadata": {
    "colab": {
     "autoexec": {
      "startup": false,
      "wait_interval": 0
     },
     "base_uri": "https://localhost:8080/",
     "height": 546,
     "output_extras": [
      {
       "item_id": 1
      }
     ]
    },
    "colab_type": "code",
    "executionInfo": {
     "elapsed": 3654,
     "status": "ok",
     "timestamp": 1520621809995,
     "user": {
      "displayName": "Zimei Yang",
      "photoUrl": "https://lh3.googleusercontent.com/a/default-user=s128",
      "userId": "103997432320800495390"
     },
     "user_tz": 480
    },
    "id": "HnXKH07bs8nv",
    "outputId": "a164bb18-8369-4a7d-c824-4ea8c9545482"
   },
   "outputs": [],
   "source": [
    "day_s = [go.Scatter(x=dfv.Day, y=dfv.Sales, mode='markers', \n",
    "                    marker=dict(size=15, color=dfv.Customers, colorbar=dict(title='Number Of Customers'),))]\n",
    "layout5 = go.Layout(title='Sales Over Days Of A Month', \n",
    "                   xaxis=dict(title='Day Of Month'), yaxis=dict(title='Total Sales'))\n",
    "fig5 = go.Figure(data=day_s, layout=layout5)\n",
    "py.iplot(fig5)"
   ]
  },
  {
   "cell_type": "markdown",
   "metadata": {
    "colab_type": "text",
    "id": "nneirNkxs8nw"
   },
   "source": [
    "## 3.6 Sales Over Weeks"
   ]
  },
  {
   "cell_type": "code",
   "execution_count": null,
   "metadata": {
    "colab": {
     "autoexec": {
      "startup": false,
      "wait_interval": 0
     },
     "base_uri": "https://localhost:8080/",
     "height": 546,
     "output_extras": [
      {
       "item_id": 1
      }
     ]
    },
    "colab_type": "code",
    "executionInfo": {
     "elapsed": 3269,
     "status": "ok",
     "timestamp": 1520634502763,
     "user": {
      "displayName": "Zimei Yang",
      "photoUrl": "https://lh3.googleusercontent.com/a/default-user=s128",
      "userId": "103997432320800495390"
     },
     "user_tz": 480
    },
    "id": "BLOEc6Bx2ndT",
    "outputId": "89c91719-b7b9-4822-8615-c7de20d6bdaa"
   },
   "outputs": [],
   "source": [
    "trace = go.Bar(x=dfv.WeekOfYear,\n",
    "                y=dfv.Sales,\n",
    "                name = \"WeekOfYear\", marker=dict(color=dfv.WeekOfYear, colorscale='Jet'))\n",
    "\n",
    "data = [trace]\n",
    "layout = go.Layout(title='Sales Over Week Of Year', \n",
    "                   xaxis=dict(title='Week Of Year'), yaxis=dict(title='Sales'))\n",
    "fig = go.Figure(data=data, layout=layout)\n",
    "py.iplot(fig)"
   ]
  },
  {
   "cell_type": "code",
   "execution_count": null,
   "metadata": {
    "colab": {
     "autoexec": {
      "startup": false,
      "wait_interval": 0
     },
     "output_extras": [
      {},
      {}
     ]
    },
    "colab_type": "code",
    "id": "F-f7cQT9s8ny",
    "outputId": "d960aff3-da63-42d0-816f-307f65982489"
   },
   "outputs": [],
   "source": [
    "day_w = [go.Bar(x=dfv.DayOfWeek, y=dfv.Sales, \n",
    "                marker=dict(color=dfv.DayOfWeek,\n",
    "                            colorscale ='Viridis'))]\n",
    "layout6 = go.Layout(title='Sales Over Days Of A Week', \n",
    "                   xaxis=dict(title='Day Of Week'), yaxis=dict(title='Total Sales'))\n",
    "fig6 = go.Figure(data=day_w, layout=layout6)\n",
    "py.iplot(fig6)"
   ]
  },
  {
   "cell_type": "markdown",
   "metadata": {
    "colab_type": "text",
    "id": "Eng7Cp4vs8n0"
   },
   "source": [
    "## 3.7 Sales By Store Type"
   ]
  },
  {
   "cell_type": "code",
   "execution_count": null,
   "metadata": {
    "colab": {
     "autoexec": {
      "startup": false,
      "wait_interval": 0
     },
     "output_extras": [
      {}
     ]
    },
    "colab_type": "code",
    "id": "e2edT8n-s8n1",
    "outputId": "bc4976ae-29d4-4d29-ca56-b3c9fb3a3cd3"
   },
   "outputs": [],
   "source": [
    "# StoreType - differentiates between 4 different store models: a, b, c, d\n",
    "s_type = [go.Box(x=dfv.StoreType, y=dfv.Sales,\n",
    "                 boxpoints='all', jitter=0.3, pointpos=-1.8)]\n",
    "layout7 = go.Layout(title='Sales By Store Type', \n",
    "                   xaxis=dict(title='Store Type'), yaxis=dict(title='Total Sales'))\n",
    "fig7 = go.Figure(data=s_type, layout=layout7)\n",
    "py.iplot(fig7)"
   ]
  },
  {
   "cell_type": "markdown",
   "metadata": {
    "colab_type": "text",
    "id": "zSh1wqaos8n3"
   },
   "source": [
    "## 3.8 Sales By Assortment"
   ]
  },
  {
   "cell_type": "code",
   "execution_count": null,
   "metadata": {
    "colab": {
     "autoexec": {
      "startup": false,
      "wait_interval": 0
     },
     "output_extras": [
      {}
     ]
    },
    "colab_type": "code",
    "id": "8bSmwjP0s8n4",
    "outputId": "c6416d22-08a9-4af6-eeb9-c620dc1c846a"
   },
   "outputs": [],
   "source": [
    "# Assortment - describes an assortment level: a = basic, b = extra, c = extended\n",
    "s_assort = [go.Box(x=dfv.Assortment, y=dfv.Sales,marker=dict(color='green'), \n",
    "                 boxpoints='all', jitter=0.3, pointpos=-1.8)]\n",
    "layout8 = go.Layout(title='Sales By Assortment', \n",
    "                   xaxis=dict(title='Assortment'), yaxis=dict(title='Total Sales'))\n",
    "fig8 = go.Figure(data=s_assort, layout=layout8)\n",
    "py.iplot(fig8)"
   ]
  },
  {
   "cell_type": "code",
   "execution_count": null,
   "metadata": {
    "colab": {
     "autoexec": {
      "startup": false,
      "wait_interval": 0
     },
     "base_uri": "https://localhost:8080/",
     "height": 314,
     "output_extras": [
      {
       "item_id": 1
      },
      {
       "item_id": 2
      }
     ]
    },
    "colab_type": "code",
    "executionInfo": {
     "elapsed": 3871,
     "status": "ok",
     "timestamp": 1520633168903,
     "user": {
      "displayName": "Zimei Yang",
      "photoUrl": "https://lh3.googleusercontent.com/a/default-user=s128",
      "userId": "103997432320800495390"
     },
     "user_tz": 480
    },
    "id": "fBaU3rOT7kiB",
    "outputId": "60433761-b53a-47fc-f7ea-c06f6632a1cb"
   },
   "outputs": [],
   "source": [
    "sns.factorplot(data = dfv, x = 'Month', y = \"Sales\", \n",
    "               col = 'Assortment',\n",
    "               palette = 'plasma',\n",
    "               hue = 'StoreType')"
   ]
  },
  {
   "cell_type": "markdown",
   "metadata": {
    "colab_type": "text",
    "id": "cdIK-Mxgs8n7"
   },
   "source": [
    "## 3.9 Sales vs. Number Of Customers"
   ]
  },
  {
   "cell_type": "code",
   "execution_count": null,
   "metadata": {
    "colab": {
     "autoexec": {
      "startup": false,
      "wait_interval": 0
     },
     "base_uri": "https://localhost:8080/",
     "height": 546,
     "output_extras": [
      {
       "item_id": 1
      }
     ]
    },
    "colab_type": "code",
    "executionInfo": {
     "elapsed": 5632,
     "status": "ok",
     "timestamp": 1520621842732,
     "user": {
      "displayName": "Zimei Yang",
      "photoUrl": "https://lh3.googleusercontent.com/a/default-user=s128",
      "userId": "103997432320800495390"
     },
     "user_tz": 480
    },
    "id": "CpzFGo9Ts8n7",
    "outputId": "e9b64813-cd75-4734-d4fa-9774b98b9aaf"
   },
   "outputs": [],
   "source": [
    "cust_s = [go.Scatter(x=dfv.Customers, y=dfv.Sales, mode='markers', \n",
    "                     marker=dict(size=20,color=dfv.CompetitionDistance,\n",
    "                                 colorbar=dict(title='Competition Distance'),colorscale='Earth'))]\n",
    "layout9 = go.Layout(title='Sales vs. Number Of Customers', \n",
    "                   xaxis=dict(title='Number Of Customers'), yaxis=dict(title='Sales'))\n",
    "fig9 = go.Figure(data=cust_s, layout=layout9)\n",
    "py.iplot(fig9)"
   ]
  },
  {
   "cell_type": "markdown",
   "metadata": {
    "colab_type": "text",
    "id": "r3dYDHrns8n8"
   },
   "source": [
    "## 3.10 Sales vs. Competition Distance"
   ]
  },
  {
   "cell_type": "code",
   "execution_count": null,
   "metadata": {
    "colab": {
     "autoexec": {
      "startup": false,
      "wait_interval": 0
     },
     "base_uri": "https://localhost:8080/",
     "height": 546,
     "output_extras": [
      {
       "item_id": 1
      }
     ]
    },
    "colab_type": "code",
    "executionInfo": {
     "elapsed": 4330,
     "status": "ok",
     "timestamp": 1520621855698,
     "user": {
      "displayName": "Zimei Yang",
      "photoUrl": "https://lh3.googleusercontent.com/a/default-user=s128",
      "userId": "103997432320800495390"
     },
     "user_tz": 480
    },
    "id": "7V8NycBas8n9",
    "outputId": "c58b82eb-809c-441b-b02b-39a89121678e"
   },
   "outputs": [],
   "source": [
    "distance_s = [go.Scatter(x=dfv.CompetitionDistance, y=dfv.Sales, mode='markers', \n",
    "                     marker=dict(size=20,color=dfv.Customers,\n",
    "                                 colorbar=dict(title='Number Of Customers'),colorscale='Jet'))]\n",
    "layout10 = go.Layout(title='Sales vs. Competition Distance', \n",
    "                   xaxis=dict(title='Competition Distance'), yaxis=dict(title='Sales'))\n",
    "fig10 = go.Figure(data=distance_s, layout=layout10)\n",
    "py.iplot(fig10)"
   ]
  },
  {
   "cell_type": "markdown",
   "metadata": {
    "colab_type": "text",
    "id": "Z4hCNeBNs8n-"
   },
   "source": [
    "## 3.11 Sales By Promotion"
   ]
  },
  {
   "cell_type": "code",
   "execution_count": null,
   "metadata": {
    "colab": {
     "autoexec": {
      "startup": false,
      "wait_interval": 0
     },
     "output_extras": [
      {}
     ]
    },
    "colab_type": "code",
    "id": "t4NrglZys8n_",
    "outputId": "3a342439-4905-4071-d2fa-bcb39a803b8b"
   },
   "outputs": [],
   "source": [
    "s_promo = [go.Box(x=dfv.Promo, y=dfv.Sales,marker=dict(color='purple'), \n",
    "                 boxpoints='all', jitter=0.3, pointpos=-1.8)]\n",
    "layout11 = go.Layout(title='Sales By Promotion', \n",
    "                   xaxis=dict(title='Promotion(0-No Promotion; 1-Promotion Period)'), yaxis=dict(title='Total Sales'))\n",
    "fig11 = go.Figure(data=s_promo, layout=layout11)\n",
    "py.iplot(fig11)"
   ]
  },
  {
   "cell_type": "code",
   "execution_count": null,
   "metadata": {
    "colab": {
     "autoexec": {
      "startup": false,
      "wait_interval": 0
     }
    },
    "colab_type": "code",
    "id": "vwdXcub2ILnX"
   },
   "outputs": [],
   "source": [
    "promo0 = dfv.query('Promo==0')\n",
    "promo0 = promo0.rename(columns={'Sales':'No_Promotion_Sales'})\n",
    "promo1 = dfv.query('Promo==1')\n",
    "promo1 = promo1.rename(columns={'Sales':'Promotion_Sales'})\n",
    "x1 = promo0.No_Promotion_Sales\n",
    "x2 = promo1.Promotion_Sales"
   ]
  },
  {
   "cell_type": "code",
   "execution_count": null,
   "metadata": {
    "colab": {
     "autoexec": {
      "startup": false,
      "wait_interval": 0
     },
     "base_uri": "https://localhost:8080/",
     "height": 406,
     "output_extras": [
      {
       "item_id": 1
      },
      {
       "item_id": 2
      }
     ]
    },
    "colab_type": "code",
    "executionInfo": {
     "elapsed": 835,
     "status": "ok",
     "timestamp": 1520633859274,
     "user": {
      "displayName": "Zimei Yang",
      "photoUrl": "https://lh3.googleusercontent.com/a/default-user=s128",
      "userId": "103997432320800495390"
     },
     "user_tz": 480
    },
    "id": "l3v6wrE4ztGh",
    "outputId": "51542278-ba72-4d4f-cbd4-0589c24e9c62"
   },
   "outputs": [],
   "source": [
    "plt.figure(figsize=(10,6))\n",
    "ax = sns.kdeplot(x1, shade=True, color=\"r\")\n",
    "ax = sns.kdeplot(x2, shade=True, color=\"b\")\n",
    "plt.title(\"Sales By Promotion\")\n",
    "plt.ylabel('Sales')"
   ]
  },
  {
   "cell_type": "markdown",
   "metadata": {
    "colab_type": "text",
    "id": "Icv2MtAes8oA"
   },
   "source": [
    "## 3.12 Pair Plot"
   ]
  },
  {
   "cell_type": "code",
   "execution_count": null,
   "metadata": {
    "colab": {
     "autoexec": {
      "startup": false,
      "wait_interval": 0
     },
     "output_extras": [
      {},
      {},
      {}
     ]
    },
    "colab_type": "code",
    "id": "at_Co3V-s8oA",
    "outputId": "6e8ed7df-e6d3-4058-c26d-d6d2c6e7553b"
   },
   "outputs": [],
   "source": [
    "plt.figure()\n",
    "sns.pairplot(dfv, kind='reg')\n",
    "plt.title('Pair Plot', fontsize=20)"
   ]
  },
  {
   "cell_type": "markdown",
   "metadata": {
    "colab_type": "text",
    "id": "EOCJXJk_s8oF"
   },
   "source": [
    "# 4. Store Sales Prediction"
   ]
  },
  {
   "cell_type": "code",
   "execution_count": null,
   "metadata": {
    "colab": {
     "autoexec": {
      "startup": false,
      "wait_interval": 0
     }
    },
    "colab_type": "code",
    "id": "eqEzsIE3s8oF"
   },
   "outputs": [],
   "source": [
    "# since I ran into memorry error and wasn't able to solve it (even on AWS Sagemaker), \n",
    "# I had to use to sample dataset with 50000 observations to build ML models.\n",
    "dfd = df1.sample(n=50000, random_state=1)"
   ]
  },
  {
   "cell_type": "code",
   "execution_count": null,
   "metadata": {
    "colab": {
     "autoexec": {
      "startup": false,
      "wait_interval": 0
     }
    },
    "colab_type": "code",
    "id": "O-czVJ46s8oG"
   },
   "outputs": [],
   "source": [
    "# split features and labels\n",
    "X = dfd.drop('Sales', axis=1)\n",
    "y = dfd. Sales"
   ]
  },
  {
   "cell_type": "code",
   "execution_count": null,
   "metadata": {
    "colab": {
     "autoexec": {
      "startup": false,
      "wait_interval": 0
     }
    },
    "colab_type": "code",
    "id": "rvQnT8xrs8oI"
   },
   "outputs": [],
   "source": [
    "# get dummy variables for categorical features for linear regression\n",
    "xd = X.copy()\n",
    "xd = pd.get_dummies(xd)"
   ]
  },
  {
   "cell_type": "code",
   "execution_count": null,
   "metadata": {
    "colab": {
     "autoexec": {
      "startup": false,
      "wait_interval": 0
     }
    },
    "colab_type": "code",
    "id": "KlMtSHbqs8oJ"
   },
   "outputs": [],
   "source": [
    "# label nominal variables for tree based regression\n",
    "xl = X.copy()\n",
    "\n",
    "from sklearn.preprocessing import LabelEncoder\n",
    "label = LabelEncoder()\n",
    "xl.StateHoliday = label.fit_transform(xl.StateHoliday)\n",
    "xl.Assortment = label.fit_transform(xl.Assortment)\n",
    "xl.StoreType = label.fit_transform(xl.StoreType)"
   ]
  },
  {
   "cell_type": "code",
   "execution_count": null,
   "metadata": {
    "colab": {
     "autoexec": {
      "startup": false,
      "wait_interval": 0
     }
    },
    "colab_type": "code",
    "id": "5M8PdEqus8oK"
   },
   "outputs": [],
   "source": [
    "# split training and test datasets\n",
    "from sklearn.cross_validation import train_test_split\n",
    "xd_train,xd_test,yd_train,yd_test = train_test_split(xd,y,test_size=0.3, random_state=1)\n",
    "xl_train,xl_test,yl_train,yl_test = train_test_split(xl,y,test_size=0.3, random_state=1)"
   ]
  },
  {
   "cell_type": "markdown",
   "metadata": {
    "colab_type": "text",
    "id": "0CkKL34rs8oL"
   },
   "source": [
    "## 4.1 Linear Regression (OLS)"
   ]
  },
  {
   "cell_type": "code",
   "execution_count": null,
   "metadata": {
    "colab": {
     "autoexec": {
      "startup": false,
      "wait_interval": 0
     }
    },
    "colab_type": "code",
    "id": "XQrj7V6Us8oM"
   },
   "outputs": [],
   "source": [
    "from sklearn.linear_model import LinearRegression\n",
    "lin= LinearRegression()\n",
    "linreg = lin.fit(xd_train, yd_train)"
   ]
  },
  {
   "cell_type": "code",
   "execution_count": null,
   "metadata": {
    "colab": {
     "autoexec": {
      "startup": false,
      "wait_interval": 0
     },
     "base_uri": "https://localhost:8080/",
     "height": 68,
     "output_extras": [
      {
       "item_id": 1
      }
     ]
    },
    "colab_type": "code",
    "executionInfo": {
     "elapsed": 292,
     "status": "ok",
     "timestamp": 1520638076072,
     "user": {
      "displayName": "Zimei Yang",
      "photoUrl": "https://lh3.googleusercontent.com/a/default-user=s128",
      "userId": "103997432320800495390"
     },
     "user_tz": 480
    },
    "id": "-d98Acdls8oN",
    "outputId": "b4644cd0-3d79-4a73-a55b-1b22e162da6e"
   },
   "outputs": [],
   "source": [
    "# definte RMSE function\n",
    "from sklearn.metrics import mean_squared_error\n",
    "from math import sqrt\n",
    "\n",
    "def rmse(x, y):\n",
    "    return sqrt(mean_squared_error(x, y))\n",
    "\n",
    "# definte MAPE function\n",
    "def mape(x, y): \n",
    "    return np.mean(np.abs((x - y) / x)) * 100  \n",
    "  \n",
    "# get cross validation scores \n",
    "yd_predicted = linreg.predict(xd_train)\n",
    "yd_test_predicted = linreg.predict(xd_test)\n",
    "\n",
    "print(\"Regresion Model Score\" , \":\" , linreg.score(xd_train, yd_train) , \",\" ,\n",
    "      \"Out of Sample Test Score\" ,\":\" , linreg.score(xd_test, yd_test))\n",
    "print(\"Training RMSE\", \":\", rmse(yd_train, yd_predicted),\n",
    "      \"Testing RMSE\", \":\", rmse(yd_test, yd_test_predicted))\n",
    "print(\"Training MAPE\", \":\", mape(yd_train, yd_predicted),\n",
    "      \"Testing MAPE\", \":\", mape(yd_test, yd_test_predicted))"
   ]
  },
  {
   "cell_type": "markdown",
   "metadata": {
    "colab_type": "text",
    "id": "h4bB0fbhs8oO"
   },
   "source": [
    "## 4.2 Bayesian Ridge Regression"
   ]
  },
  {
   "cell_type": "code",
   "execution_count": null,
   "metadata": {
    "colab": {
     "autoexec": {
      "startup": false,
      "wait_interval": 0
     }
    },
    "colab_type": "code",
    "id": "DCXD4hQws8oP"
   },
   "outputs": [],
   "source": [
    "from sklearn.linear_model import BayesianRidge\n",
    "rdg = BayesianRidge()\n",
    "rdgreg = rdg.fit(xd_train, yd_train)"
   ]
  },
  {
   "cell_type": "code",
   "execution_count": null,
   "metadata": {
    "colab": {
     "autoexec": {
      "startup": false,
      "wait_interval": 0
     },
     "base_uri": "https://localhost:8080/",
     "height": 68,
     "output_extras": [
      {
       "item_id": 1
      }
     ]
    },
    "colab_type": "code",
    "executionInfo": {
     "elapsed": 275,
     "status": "ok",
     "timestamp": 1520638112223,
     "user": {
      "displayName": "Zimei Yang",
      "photoUrl": "https://lh3.googleusercontent.com/a/default-user=s128",
      "userId": "103997432320800495390"
     },
     "user_tz": 480
    },
    "id": "p7JSqZlgs8oS",
    "outputId": "da225657-06c8-4331-dfe0-ee5445eefec5"
   },
   "outputs": [],
   "source": [
    "# validation\n",
    "print(\"Regresion Model Score\" , \":\" , rdgreg.score(xd_train, yd_train) , \",\" ,\n",
    "      \"Out of Sample Test Score\" ,\":\" , rdgreg.score(xd_test, yd_test))\n",
    "\n",
    "yd_predicted = rdgreg.predict(xd_train)\n",
    "yd_test_predicted = rdgreg.predict(xd_test)\n",
    "\n",
    "print(\"Training RMSE\", \":\", rmse(yd_train, yd_predicted),\n",
    "      \"Testing RMSE\", \":\", rmse(yd_test, yd_test_predicted))\n",
    "print(\"Training MAPE\", \":\", mape(yd_train, yd_predicted),\n",
    "      \"Testing MAPE\", \":\", mape(yd_test, yd_test_predicted))"
   ]
  },
  {
   "cell_type": "markdown",
   "metadata": {
    "colab_type": "text",
    "id": "3-OK1hQvs8oS"
   },
   "source": [
    "## 4.3 LARS Lasso Regression"
   ]
  },
  {
   "cell_type": "code",
   "execution_count": null,
   "metadata": {
    "colab": {
     "autoexec": {
      "startup": false,
      "wait_interval": 0
     }
    },
    "colab_type": "code",
    "id": "2GepxlBGs8oT"
   },
   "outputs": [],
   "source": [
    "from sklearn.linear_model import LassoLars\n",
    "las = LassoLars(alpha=0.3, fit_intercept=False, normalize=True)\n",
    "lasreg = las.fit(xd_train, yd_train)\n"
   ]
  },
  {
   "cell_type": "code",
   "execution_count": null,
   "metadata": {
    "colab": {
     "autoexec": {
      "startup": false,
      "wait_interval": 0
     },
     "base_uri": "https://localhost:8080/",
     "height": 68,
     "output_extras": [
      {
       "item_id": 1
      }
     ]
    },
    "colab_type": "code",
    "executionInfo": {
     "elapsed": 293,
     "status": "ok",
     "timestamp": 1520638215591,
     "user": {
      "displayName": "Zimei Yang",
      "photoUrl": "https://lh3.googleusercontent.com/a/default-user=s128",
      "userId": "103997432320800495390"
     },
     "user_tz": 480
    },
    "id": "1E8w4LLps8oU",
    "outputId": "d4469381-fbc0-4287-bc25-d07b60761d65"
   },
   "outputs": [],
   "source": [
    "print(\"Regresion Model Score\" , \":\" , lasreg.score(xd_train, yd_train) , \",\" ,\n",
    "      \"Out of Sample Test Score\" ,\":\" , lasreg.score(xd_test, yd_test))\n",
    "\n",
    "yd_predicted = lasreg.predict(xd_train)\n",
    "yd_test_predicted = lasreg.predict(xd_test)\n",
    "\n",
    "print(\"Training RMSE\", \":\", rmse(yd_train, yd_predicted),\n",
    "      \"Testing RMSE\", \":\", rmse(yd_test, yd_test_predicted))\n",
    "print(\"Training MAPE\", \":\", mape(yd_train, yd_predicted),\n",
    "      \"Testing MAPE\", \":\", mape(yd_test, yd_test_predicted))"
   ]
  },
  {
   "cell_type": "markdown",
   "metadata": {
    "colab_type": "text",
    "id": "ZtB_oCZPs8oY"
   },
   "source": [
    "## 4.4 Decision Tree Regression"
   ]
  },
  {
   "cell_type": "code",
   "execution_count": null,
   "metadata": {
    "colab": {
     "autoexec": {
      "startup": false,
      "wait_interval": 0
     }
    },
    "colab_type": "code",
    "id": "2Bcn1Slgs8oY"
   },
   "outputs": [],
   "source": [
    "from sklearn.tree import DecisionTreeRegressor\n",
    "tree = DecisionTreeRegressor(min_samples_leaf=20)\n",
    "treereg = tree.fit(xl_train, yl_train)"
   ]
  },
  {
   "cell_type": "code",
   "execution_count": null,
   "metadata": {
    "colab": {
     "autoexec": {
      "startup": false,
      "wait_interval": 0
     },
     "base_uri": "https://localhost:8080/",
     "height": 68,
     "output_extras": [
      {
       "item_id": 1
      }
     ]
    },
    "colab_type": "code",
    "executionInfo": {
     "elapsed": 299,
     "status": "ok",
     "timestamp": 1520638252807,
     "user": {
      "displayName": "Zimei Yang",
      "photoUrl": "https://lh3.googleusercontent.com/a/default-user=s128",
      "userId": "103997432320800495390"
     },
     "user_tz": 480
    },
    "id": "j0va-g_ks8oZ",
    "outputId": "d8303480-0797-4651-f86a-1dd56370d96c"
   },
   "outputs": [],
   "source": [
    "print(\"Regresion Model Score\" , \":\" , treereg.score(xl_train, yl_train) , \",\" ,\n",
    "      \"Out of Sample Test Score\" ,\":\" , treereg.score(xl_test, yl_test))\n",
    "\n",
    "yl_predicted = treereg.predict(xl_train)\n",
    "yl_test_predicted = treereg.predict(xl_test)\n",
    "print(\"Training RMSE\", \":\", rmse(yl_train, yl_predicted),\n",
    "      \"Testing RMSE\", \":\", rmse(yl_test, yl_test_predicted))\n",
    "print(\"Training MAPE\", \":\", mape(yl_train, yl_predicted),\n",
    "      \"Testing MAPE\", \":\", mape(yl_test, yl_test_predicted))"
   ]
  },
  {
   "cell_type": "markdown",
   "metadata": {
    "colab_type": "text",
    "id": "HrAj3K3hs8od"
   },
   "source": [
    "## 4.5 Random Forest Regression"
   ]
  },
  {
   "cell_type": "code",
   "execution_count": null,
   "metadata": {
    "colab": {
     "autoexec": {
      "startup": false,
      "wait_interval": 0
     }
    },
    "colab_type": "code",
    "id": "AJPq_HY0s8od"
   },
   "outputs": [],
   "source": [
    "from sklearn.ensemble import RandomForestRegressor\n",
    "rdf = RandomForestRegressor(n_estimators=30)\n",
    "rdfreg = rdf.fit(xl_train, yl_train)"
   ]
  },
  {
   "cell_type": "code",
   "execution_count": null,
   "metadata": {
    "colab": {
     "autoexec": {
      "startup": false,
      "wait_interval": 0
     },
     "base_uri": "https://localhost:8080/",
     "height": 68,
     "output_extras": [
      {
       "item_id": 2
      }
     ]
    },
    "colab_type": "code",
    "executionInfo": {
     "elapsed": 1335,
     "status": "ok",
     "timestamp": 1520638305903,
     "user": {
      "displayName": "Zimei Yang",
      "photoUrl": "https://lh3.googleusercontent.com/a/default-user=s128",
      "userId": "103997432320800495390"
     },
     "user_tz": 480
    },
    "id": "Q1-CJocas8of",
    "outputId": "bf790a20-4e62-4de2-af8c-ee7e9271f6cb"
   },
   "outputs": [],
   "source": [
    "print(\"Regresion Model Score\" , \":\" , rdfreg.score(xl_train, yl_train) , \",\" ,\n",
    "      \"Out of Sample Test Score\" ,\":\" , rdfreg.score(xl_test, yl_test))   \n",
    "\n",
    "yl_predicted = rdfreg.predict(xl_train)\n",
    "yl_test_predicted = rdfreg.predict(xl_test)\n",
    "\n",
    "print(\"Training RMSE\", \":\", rmse(yl_train, yl_predicted),\n",
    "      \"Testing RMSE\", \":\", rmse(yl_test, yl_test_predicted))\n",
    "print(\"Training MAPE\", \":\", mape(yl_train, yl_predicted),\n",
    "      \"Testing MAPE\", \":\", mape(yl_test, yl_test_predicted))"
   ]
  },
  {
   "cell_type": "markdown",
   "metadata": {
    "colab_type": "text",
    "id": "1K3ZQdr_s8og"
   },
   "source": [
    "## 4.6 K-Nearest Neighbors Regression"
   ]
  },
  {
   "cell_type": "code",
   "execution_count": null,
   "metadata": {
    "colab": {
     "autoexec": {
      "startup": false,
      "wait_interval": 0
     }
    },
    "colab_type": "code",
    "id": "bdi37wFMs8og"
   },
   "outputs": [],
   "source": [
    "from sklearn.neighbors import KNeighborsRegressor\n",
    "knn = KNeighborsRegressor(n_neighbors = 30)\n",
    "knnreg = knn.fit(xd_train, yd_train)"
   ]
  },
  {
   "cell_type": "code",
   "execution_count": null,
   "metadata": {
    "colab": {
     "autoexec": {
      "startup": false,
      "wait_interval": 0
     },
     "base_uri": "https://localhost:8080/",
     "height": 68,
     "output_extras": [
      {
       "item_id": 2
      }
     ]
    },
    "colab_type": "code",
    "executionInfo": {
     "elapsed": 2827,
     "status": "ok",
     "timestamp": 1520641322748,
     "user": {
      "displayName": "Zimei Yang",
      "photoUrl": "https://lh3.googleusercontent.com/a/default-user=s128",
      "userId": "103997432320800495390"
     },
     "user_tz": 480
    },
    "id": "nhNJQGJFs8oi",
    "outputId": "7799693c-64ed-45e8-d8e1-bc8bfbe3495d"
   },
   "outputs": [],
   "source": [
    "print(\"Regresion Model Score\" , \":\" , knnreg.score(xd_train, yd_train) , \",\" ,\n",
    "      \"Out of Sample Test Score\" ,\":\" , knnreg.score(xd_test, yd_test))\n",
    "\n",
    "yd_predicted = knnreg.predict(xd_train)\n",
    "yd_test_predicted = knnreg.predict(xd_test)\n",
    "\n",
    "print(\"Training RMSE\", \":\", rmse(yd_train, yd_predicted),\n",
    "      \"Testing RMSE\", \":\", rmse(yd_test, yd_test_predicted))\n",
    "print(\"Training MAPE\", \":\", mape(yd_train, yd_predicted),\n",
    "      \"Testing MAPE\", \":\", mape(yd_test, yd_test_predicted))"
   ]
  },
  {
   "cell_type": "code",
   "execution_count": null,
   "metadata": {
    "colab": {
     "autoexec": {
      "startup": false,
      "wait_interval": 0
     },
     "base_uri": "https://localhost:8080/",
     "height": 510,
     "output_extras": [
      {
       "item_id": 28
      }
     ]
    },
    "colab_type": "code",
    "executionInfo": {
     "elapsed": 33341,
     "status": "ok",
     "timestamp": 1520626104707,
     "user": {
      "displayName": "Zimei Yang",
      "photoUrl": "https://lh3.googleusercontent.com/a/default-user=s128",
      "userId": "103997432320800495390"
     },
     "user_tz": 480
    },
    "id": "YKbQsYSns8oj",
    "outputId": "1794d96d-81b9-4b9d-95a3-dda5a74ec419"
   },
   "outputs": [],
   "source": [
    "for x in range(1,30):\n",
    "    knn = KNeighborsRegressor(n_neighbors = x)\n",
    "    knnreg = knn.fit(xd_train, yd_train)\n",
    "    print(\"Regresion Model Score\" , \":\" , knnreg.score(xd_train, yd_train) , \",\" ,\n",
    "      \"Out of Sample Test Score\" ,\":\" , knnreg.score(xd_test, yd_test))"
   ]
  },
  {
   "cell_type": "markdown",
   "metadata": {
    "colab_type": "text",
    "id": "wfM3RhIpYRzS"
   },
   "source": [
    "## 4.7 Model Selection\n",
    "Let's put the evaluation metrics together, and see which model performed better!"
   ]
  },
  {
   "cell_type": "markdown",
   "metadata": {
    "colab_type": "text",
    "id": "ys7RY3CdOnMw"
   },
   "source": [
    "![rossmann-score](https://user-images.githubusercontent.com/32555702/37251007-8ad4710e-24bd-11e8-8ac2-682904ceb50c.JPG)"
   ]
  },
  {
   "cell_type": "markdown",
   "metadata": {
    "colab_type": "text",
    "id": "e_GcnWYkPE0W"
   },
   "source": [
    "## Feature Importance"
   ]
  },
  {
   "cell_type": "code",
   "execution_count": null,
   "metadata": {
    "colab": {
     "autoexec": {
      "startup": false,
      "wait_interval": 0
     },
     "base_uri": "https://localhost:8080/",
     "height": 644,
     "output_extras": [
      {
       "item_id": 1
      },
      {
       "item_id": 2
      }
     ]
    },
    "colab_type": "code",
    "executionInfo": {
     "elapsed": 959,
     "status": "ok",
     "timestamp": 1520637604450,
     "user": {
      "displayName": "Zimei Yang",
      "photoUrl": "https://lh3.googleusercontent.com/a/default-user=s128",
      "userId": "103997432320800495390"
     },
     "user_tz": 480
    },
    "id": "XtwT-qaqTPsA",
    "outputId": "a0388820-623e-4aba-cbb0-c5d15d81fa83"
   },
   "outputs": [],
   "source": [
    "features = xl_train.columns\n",
    "importances = rdfreg.feature_importances_\n",
    "indices = np.argsort(importances)\n",
    "plt.figure(figsize=(8,10))\n",
    "plt.title('Feature Importances', fontsize=20)\n",
    "plt.barh(range(len(indices)), importances[indices], color='pink', align='center')\n",
    "plt.yticks(range(len(indices)), features[indices])\n",
    "plt.xlabel('Relative Importance')"
   ]
  },
  {
   "cell_type": "markdown",
   "metadata": {
    "colab_type": "text",
    "id": "HdEdBy49ZJT6"
   },
   "source": [
    "State Holiday: a = public holiday, b = Easter holiday, c = Christmas, 0 = None"
   ]
  },
  {
   "cell_type": "markdown",
   "metadata": {
    "colab_type": "text",
    "id": "19E4-cGYQBGW"
   },
   "source": [
    "![cavs6skwqaapxpg](https://user-images.githubusercontent.com/32555702/37251006-8ab7650a-24bd-11e8-819f-c802f4385414.png)"
   ]
  }
 ],
 "metadata": {
  "colab": {
   "collapsed_sections": [],
   "default_view": {},
   "name": "Rossmann Store Sales Prediction.ipynb",
   "provenance": [],
   "version": "0.3.2",
   "views": {}
  },
  "kernelspec": {
   "display_name": "Python 3",
   "language": "python",
   "name": "python3"
  },
  "language_info": {
   "codemirror_mode": {
    "name": "ipython",
    "version": 3
   },
   "file_extension": ".py",
   "mimetype": "text/x-python",
   "name": "python",
   "nbconvert_exporter": "python",
   "pygments_lexer": "ipython3",
   "version": "3.6.5"
  }
 },
 "nbformat": 4,
 "nbformat_minor": 1
}
